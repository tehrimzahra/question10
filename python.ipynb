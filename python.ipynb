 
colors = ['red', 'blue', 'green', 'yellow']
index_of_green = colors.index('green')
print(index_of_green)  