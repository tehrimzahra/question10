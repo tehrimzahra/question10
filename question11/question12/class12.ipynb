{
 "cells": [
  {
   "cell_type": "code",
   "execution_count": null,
   "metadata": {},
   "outputs": [],
   "source": []
  },
  {
   "cell_type": "code",
   "execution_count": 1,
   "metadata": {},
   "outputs": [
    {
     "name": "stdout",
     "output_type": "stream",
     "text": [
      "The final list is: ['1', '2', '3', '3']\n"
     ]
    }
   ],
   "source": [
    "def get_user_input():\n",
    "    user_list = []\n",
    "    \n",
    "    while True:\n",
    "        user_input = input(\"Enter a value (or press enter to finish): \")\n",
    "    \n",
    "        if user_input == \"\":\n",
    "            break\n",
    "        user_list.append(user_input)\n",
    "    print(\"The final list is:\", user_list)\n",
    "get_user_input()\n"
   ]
  }
 ],
 "metadata": {
  "kernelspec": {
   "display_name": "Python 3",
   "language": "python",
   "name": "python3"
  },
  "language_info": {
   "codemirror_mode": {
    "name": "ipython",
    "version": 3
   },
   "file_extension": ".py",
   "mimetype": "text/x-python",
   "name": "python",
   "nbconvert_exporter": "python",
   "pygments_lexer": "ipython3",
   "version": "3.12.4"
  }
 },
 "nbformat": 4,
 "nbformat_minor": 2
}
